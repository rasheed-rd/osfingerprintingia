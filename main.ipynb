{
 "metadata": {
  "language_info": {
   "codemirror_mode": {
    "name": "ipython",
    "version": 3
   },
   "file_extension": ".py",
   "mimetype": "text/x-python",
   "name": "python",
   "nbconvert_exporter": "python",
   "pygments_lexer": "ipython3",
   "version": "3.8.10"
  },
  "orig_nbformat": 4,
  "kernelspec": {
   "name": "python3",
   "display_name": "Python 3.8.10 64-bit ('.venv': venv)"
  },
  "interpreter": {
   "hash": "79c990d43e9044a7289f568bd6e831504df6bfea29362bee0271b5fc85673147"
  }
 },
 "nbformat": 4,
 "nbformat_minor": 2,
 "cells": [
  {
   "cell_type": "code",
   "execution_count": 1,
   "metadata": {},
   "outputs": [
    {
     "output_type": "stream",
     "name": "stdout",
     "text": [
      "  Class.vendor Class.OSfamily Class.OSgen Class.device  SEQ.SP SEQ.GCD  \\\n0        Apple            iOS         5.X        phone  F4-108     1-6   \n1        Apple            iOS         5.X  mediadevice  F4-108     1-6   \n\n  SEQ.ISR SEQ.TI SEQ.CI SEQ.II  ...  U1.RIPL U1.RID U1.RIPCK U1.RUCK U1.RUD  \\\n0  FC-10E     RD  RD|RI     RI  ...        G      G        Z       0      G   \n1  FC-10E     RD  RD|RI     RI  ...        G      G        Z       0      G   \n\n  IE.R IE.DFI   IE.T IE.TG IE.CD  \n0  NaN      S  3B-45    40     S  \n1  NaN      S  3B-45    40     S  \n\n[2 rows x 123 columns]\n"
     ]
    }
   ],
   "source": [
    "import pandas as pd\n",
    "import numpy as np\n",
    "import nmap_db_parser as p\n",
    "\n",
    "dataset = p.parse_database(\"db6.txt\")"
   ]
  }
 ]
}