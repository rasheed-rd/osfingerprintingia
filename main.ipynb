{
 "cells": [
  {
   "cell_type": "code",
   "execution_count": null,
   "metadata": {},
   "outputs": [],
   "source": [
    "import pandas as pd\n",
    "import nmap_db_parser as p\n",
    "\n",
    "in_classes = p.parse_in_classes(\"os-classes-db79-IN.txt\")\n",
    "dataset_list, column_names = p.parse_database(\"db7.9.txt\",100000,in_classes,True)"
   ]
  },
  {
   "cell_type": "code",
   "execution_count": null,
   "metadata": {},
   "outputs": [],
   "source": [
    "df = pd.DataFrame(dataset_list, columns=column_names)\n",
    "del dataset_list"
   ]
  },
  {
   "cell_type": "code",
   "execution_count": null,
   "metadata": {},
   "outputs": [],
   "source": [
    "def group_classes(os_class):\n",
    "    if os_class in ['MacOS','macOS','MacOSX','OSX']:\n",
    "        return 'macOS'\n",
    "    elif os_class in ['IOS','iOS','iPhoneOS']:\n",
    "        return 'iOS'\n",
    "    elif 'BSD' in os_class:\n",
    "        return 'BSD'\n",
    "    else:\n",
    "        return os_class\n",
    "\n",
    "df['Class.OSfamily_0'] = df['Class.OSfamily_0'].apply(group_classes)\n",
    "\n",
    "df.pop('Class.vendor_0')\n",
    "df.pop('Class.OSgen_0')\n",
    "df.pop('Class.device_0')\n",
    "df.reset_index(drop=True, inplace=True)"
   ]
  },
  {
   "cell_type": "code",
   "execution_count": null,
   "metadata": {},
   "outputs": [],
   "source": [
    "# df.to_csv(r'./dataset.csv')\n",
    "df.to_feather(r'./datasetBIG.feather')"
   ]
  },
  {
   "cell_type": "code",
   "execution_count": null,
   "metadata": {},
   "outputs": [],
   "source": [
    "# start = time.time()\n",
    "\n",
    "# dataset = df[df.columns[0:4]]\n",
    "# for column in column_names[4:]:\n",
    "#     aux = df[column].apply(pd.Series).rename(columns = lambda x : column + \"_\" + str(x))\n",
    "#     dataset = pd.concat([dataset,aux], axis=1)\n",
    "\n",
    "# end = time.time()\n",
    "# print(end - start)"
   ]
  },
  {
   "cell_type": "code",
   "execution_count": null,
   "metadata": {},
   "outputs": [],
   "source": [
    "# df['Class.vendor'] = df['Class.vendor'].astype('category')\n",
    "# df['Class.OSfamily'] = df['Class.OSfamily'].astype('category')\n",
    "\n",
    "# df['SEQ.SP'] = df['SEQ.SP'].astype('category')\n",
    "# df['SEQ.SP'] = df['SEQ.SP'].astype('category')\n",
    "# df['SEQ.SP'] = df['SEQ.SP'].astype('category')\n",
    "\n",
    "# df.dtypes"
   ]
  },
  {
   "cell_type": "code",
   "execution_count": null,
   "metadata": {},
   "outputs": [],
   "source": [
    "# df.groupby('Class.OSfamily_0').count()"
   ]
  },
  {
   "cell_type": "code",
   "execution_count": null,
   "metadata": {},
   "outputs": [],
   "source": [
    "# hist = dataset['Class.OSfamily'].hist()"
   ]
  }
 ],
 "metadata": {
  "interpreter": {
   "hash": "79c990d43e9044a7289f568bd6e831504df6bfea29362bee0271b5fc85673147"
  },
  "kernelspec": {
   "display_name": "Python 3 (ipykernel)",
   "language": "python",
   "name": "python3"
  },
  "language_info": {
   "codemirror_mode": {
    "name": "ipython",
    "version": 3
   },
   "file_extension": ".py",
   "mimetype": "text/x-python",
   "name": "python",
   "nbconvert_exporter": "python",
   "pygments_lexer": "ipython3",
   "version": "3.8.10"
  }
 },
 "nbformat": 4,
 "nbformat_minor": 2
}
