{
 "metadata": {
  "language_info": {
   "codemirror_mode": {
    "name": "ipython",
    "version": 3
   },
   "file_extension": ".py",
   "mimetype": "text/x-python",
   "name": "python",
   "nbconvert_exporter": "python",
   "pygments_lexer": "ipython3",
   "version": "3.8.10"
  },
  "orig_nbformat": 4,
  "kernelspec": {
   "name": "python3",
   "display_name": "Python 3.8.10 64-bit ('.venv': venv)"
  },
  "interpreter": {
   "hash": "79c990d43e9044a7289f568bd6e831504df6bfea29362bee0271b5fc85673147"
  }
 },
 "nbformat": 4,
 "nbformat_minor": 2,
 "cells": [
  {
   "cell_type": "code",
   "execution_count": null,
   "source": [
    "import pandas as pd\n",
    "import nmap_db_parser as p\n",
    "\n",
    "column_names = ['Class.vendor','Class.OSfamily','Class.OSgen','Class.device','SEQ.SP','SEQ.GCD','SEQ.ISR','SEQ.TI','SEQ.CI','SEQ.II','SEQ.SS','SEQ.TS','OPS.O1','OPS.O2','OPS.O3','OPS.O4','OPS.O5','OPS.O6','WIN.W1','WIN.W2','WIN.W3','WIN.W4','WIN.W5','WIN.W6','ECN.R','ECN.DF','ECN.T','ECN.TG','ECN.W','ECN.O','ECN.CC','ECN.Q','T1.R','T1.DF','T1.T','T1.TG','T1.S','T1.A','T1.F','T1.RD','T1.Q','T2.R','T2.DF','T2.T','T2.TG','T2.W','T2.S','T2.A','T2.F','T2.O','T2.RD','T2.Q','T3.R','T3.DF','T3.T','T3.TG','T3.W','T3.S','T3.A','T3.F','T3.O','T3.RD','T3.Q','T4.R','T4.DF','T4.T','T4.TG','T4.W','T4.S','T4.A','T4.F','T4.O','T4.RD','T4.Q','T5.R','T5.DF','T5.T','T5.TG','T5.W','T5.S','T5.A','T5.F','T5.O','T5.RD','T5.Q','T6.R','T6.DF','T6.T','T6.TG','T6.W','T6.S','T6.A','T6.F','T6.O','T6.RD','T6.Q','T7.R','T7.DF','T7.T','T7.TG','T7.W','T7.S','T7.A','T7.F','T7.O','T7.RD','T7.Q','U1.R','U1.DF','U1.T','U1.TG','U1.IPL','U1.UN','U1.RIPL','U1.RID','U1.RIPCK','U1.RUCK','U1.RUD','IE.R','IE.DFI','IE.T','IE.TG','IE.CD']\n",
    "dataset = pd.DataFrame(p.parse_database(\"db7.9.txt\",100000,p.parse_in_classes(\"os-classes-db79-IN.txt\"),True),columns=column_names)"
   ],
   "outputs": [],
   "metadata": {}
  },
  {
   "cell_type": "code",
   "execution_count": null,
   "source": [
    "#dataset.to_csv(r'./dataset.csv'"
   ],
   "outputs": [],
   "metadata": {}
  },
  {
   "cell_type": "code",
   "execution_count": null,
   "source": [
    "dataset['Class.vendor'] = dataset['Class.vendor'].astype('category')\n",
    "dataset['Class.OSfamily'] = dataset['Class.OSfamily'].astype('category')\n",
    "\n",
    "dataset.dtypes"
   ],
   "outputs": [],
   "metadata": {}
  },
  {
   "cell_type": "code",
   "execution_count": null,
   "source": [
    "dataset.groupby('Class.OSfamily').count()"
   ],
   "outputs": [],
   "metadata": {}
  },
  {
   "cell_type": "code",
   "execution_count": null,
   "source": [
    "hist = dataset['Class.OSfamily'].hist()"
   ],
   "outputs": [],
   "metadata": {}
  },
  {
   "cell_type": "code",
   "execution_count": null,
   "source": [
    "#dataset.corr().abs[['Class.OSfamily']]\n",
    "#dataset.head()"
   ],
   "outputs": [],
   "metadata": {}
  }
 ]
}